{
 "cells": [
  {
   "cell_type": "code",
   "execution_count": 86,
   "id": "c55bd1a0",
   "metadata": {},
   "outputs": [
    {
     "name": "stdout",
     "output_type": "stream",
     "text": [
      "Requirement already satisfied: bs4 in c:\\users\\leah-\\anaconda3\\envs\\r_env\\lib\\site-packages (0.0.1)\n",
      "Requirement already satisfied: beautifulsoup4 in c:\\users\\leah-\\anaconda3\\envs\\r_env\\lib\\site-packages (from bs4) (4.10.0)\n",
      "Requirement already satisfied: soupsieve>1.2 in c:\\users\\leah-\\anaconda3\\envs\\r_env\\lib\\site-packages (from beautifulsoup4->bs4) (2.3.1)\n",
      "Requirement already satisfied: matplotlib in c:\\users\\leah-\\anaconda3\\envs\\r_env\\lib\\site-packages (3.5.1)\n",
      "Requirement already satisfied: pyparsing>=2.2.1 in c:\\users\\leah-\\anaconda3\\envs\\r_env\\lib\\site-packages (from matplotlib) (3.0.4)\n",
      "Requirement already satisfied: kiwisolver>=1.0.1 in c:\\users\\leah-\\anaconda3\\envs\\r_env\\lib\\site-packages (from matplotlib) (1.4.2)\n",
      "Requirement already satisfied: pillow>=6.2.0 in c:\\users\\leah-\\anaconda3\\envs\\r_env\\lib\\site-packages (from matplotlib) (9.1.0)\n",
      "Requirement already satisfied: fonttools>=4.22.0 in c:\\users\\leah-\\anaconda3\\envs\\r_env\\lib\\site-packages (from matplotlib) (4.31.2)\n",
      "Requirement already satisfied: numpy>=1.17 in c:\\users\\leah-\\anaconda3\\envs\\r_env\\lib\\site-packages (from matplotlib) (1.22.3)\n",
      "Requirement already satisfied: python-dateutil>=2.7 in c:\\users\\leah-\\anaconda3\\envs\\r_env\\lib\\site-packages (from matplotlib) (2.8.2)\n",
      "Requirement already satisfied: packaging>=20.0 in c:\\users\\leah-\\anaconda3\\envs\\r_env\\lib\\site-packages (from matplotlib) (21.0)\n",
      "Requirement already satisfied: cycler>=0.10 in c:\\users\\leah-\\anaconda3\\envs\\r_env\\lib\\site-packages (from matplotlib) (0.11.0)\n",
      "Requirement already satisfied: six>=1.5 in c:\\users\\leah-\\anaconda3\\envs\\r_env\\lib\\site-packages (from python-dateutil>=2.7->matplotlib) (1.16.0)\n",
      "Requirement already satisfied: pandas in c:\\users\\leah-\\anaconda3\\envs\\r_env\\lib\\site-packages (1.4.2)\n",
      "Requirement already satisfied: python-dateutil>=2.8.1 in c:\\users\\leah-\\anaconda3\\envs\\r_env\\lib\\site-packages (from pandas) (2.8.2)\n",
      "Requirement already satisfied: numpy>=1.18.5 in c:\\users\\leah-\\anaconda3\\envs\\r_env\\lib\\site-packages (from pandas) (1.22.3)\n",
      "Requirement already satisfied: pytz>=2020.1 in c:\\users\\leah-\\anaconda3\\envs\\r_env\\lib\\site-packages (from pandas) (2021.3)\n",
      "Requirement already satisfied: six>=1.5 in c:\\users\\leah-\\anaconda3\\envs\\r_env\\lib\\site-packages (from python-dateutil>=2.8.1->pandas) (1.16.0)\n",
      "Collecting daytime\n",
      "  Downloading daytime-0.4.tar.gz (2.4 kB)\n",
      "Building wheels for collected packages: daytime\n",
      "  Building wheel for daytime (setup.py): started\n",
      "  Building wheel for daytime (setup.py): finished with status 'done'\n",
      "  Created wheel for daytime: filename=daytime-0.4-py3-none-any.whl size=2418 sha256=8b95ecaf7dbb7d5e8d829c43730f76e3a083ef24e20b3e5e1243286c04e76163\n",
      "  Stored in directory: c:\\users\\leah-\\appdata\\local\\pip\\cache\\wheels\\52\\d5\\73\\e709f43608f7559446d32db26e22e102b1d7a23d8c06b60bc5\n",
      "Successfully built daytime\n",
      "Installing collected packages: daytime\n",
      "Successfully installed daytime-0.4\n"
     ]
    }
   ],
   "source": [
    "!pip install bs4\n",
    "!pip install matplotlib\n",
    "!pip install pandas\n",
    "!pip install daytime"
   ]
  },
  {
   "cell_type": "code",
   "execution_count": 87,
   "id": "ef4f1cdd",
   "metadata": {},
   "outputs": [],
   "source": [
    "from bs4 import BeautifulSoup\n",
    "import matplotlib.pyplot as plt\n",
    "import pandas as pd\n",
    "import numpy as np\n",
    "import requests\n",
    "import json\n",
    "import os\n",
    "import daytime"
   ]
  },
  {
   "cell_type": "code",
   "execution_count": 10,
   "id": "05a45f08",
   "metadata": {},
   "outputs": [],
   "source": [
    "##Part 1\n",
    "\n",
    "result = requests.post('https://ies-midterm.soulution.rocks/login',json=({\"cuni\":\"14534798\"}))"
   ]
  },
  {
   "cell_type": "code",
   "execution_count": 11,
   "id": "610e706d",
   "metadata": {},
   "outputs": [
    {
     "name": "stdout",
     "output_type": "stream",
     "text": [
      "{\"data\": {\"personal_code\": \"acb53ec9\", \"dataset_ids\": [\"f561ba0da6\", \"5aa21103e8\", \"288b147f95\", \"ef0bccd7cc\", \"86c214b421\", \"95ff551368\", \"24f88cb68c\", \"8f8c9919a6\", \"779ce2818b\"]}, \"message\": \"Hello, Hu Yan! Good luck with the midterm. GET your data set from /data/file_id endpoint; use the codes you received in the data response as the file_id parameter! Print the personal code in your notebook.\"}\n"
     ]
    }
   ],
   "source": [
    "print(result.text)"
   ]
  },
  {
   "cell_type": "code",
   "execution_count": 13,
   "id": "2fdae059",
   "metadata": {},
   "outputs": [
    {
     "data": {
      "text/plain": [
       "200"
      ]
     },
     "execution_count": 13,
     "metadata": {},
     "output_type": "execute_result"
    }
   ],
   "source": [
    "result.status_code"
   ]
  },
  {
   "cell_type": "code",
   "execution_count": 16,
   "id": "f41873e6",
   "metadata": {},
   "outputs": [
    {
     "name": "stdout",
     "output_type": "stream",
     "text": [
      "personal_code: acb53ec9\n"
     ]
    }
   ],
   "source": [
    "print(\"personal_code:\",\"acb53ec9\")"
   ]
  },
  {
   "cell_type": "code",
   "execution_count": 29,
   "id": "db0e4ef6",
   "metadata": {},
   "outputs": [
    {
     "name": "stdout",
     "output_type": "stream",
     "text": [
      "<Response [200]>\n"
     ]
    }
   ],
   "source": [
    "data = requests.post(\"https://ies-midterm.soulution.rocks/saveme\",json=({\"cuni\":\"14534798\"}))\n",
    "print(data)"
   ]
  },
  {
   "cell_type": "code",
   "execution_count": 40,
   "id": "25f418db",
   "metadata": {},
   "outputs": [
    {
     "name": "stdout",
     "output_type": "stream",
     "text": [
      "['f561ba0da6', '5aa21103e8', '288b147f95', 'ef0bccd7cc', '86c214b421', '95ff551368', '24f88cb68c', '8f8c9919a6', '779ce2818b']\n"
     ]
    }
   ],
   "source": [
    "list_of_codes = json.loads(result.text)['data']['dataset_ids']\n",
    "print(list_of_codes)"
   ]
  },
  {
   "cell_type": "code",
   "execution_count": 95,
   "id": "b6f9b8b4",
   "metadata": {},
   "outputs": [],
   "source": [
    "dataset = {}\n",
    "n = 10\n",
    "for data_id in list_of_codes:\n",
    "    r = requests.get(url=f'https://ies-midterm.soulution.rocks/data/{data_id}')\n",
    "    i = 0\n",
    "    while r.status_code !=200:  \n",
    "        r=requests.get(url=f'https://ies-midterm.soulution.rocks/data/{data_id}')\n",
    "    d=r.json()['data']\n",
    "    ticker = d['company']\n",
    "    data = pd.DataFrame(d['data'])\n",
    "    \n",
    "    dataset[ticker] = data"
   ]
  },
  {
   "cell_type": "code",
   "execution_count": 96,
   "id": "2c98079c",
   "metadata": {},
   "outputs": [],
   "source": [
    "ticker = d['company']\n",
    "data = pd.DataFrame(d['data'])\n",
    "dataset[ticker] = data"
   ]
  },
  {
   "cell_type": "code",
   "execution_count": 97,
   "id": "956230ad",
   "metadata": {},
   "outputs": [
    {
     "name": "stdout",
     "output_type": "stream",
     "text": [
      "                   0                   1                   2  \\\n",
      "CRH  0    2019-01-02  26.030000686645508                26.5   \n",
      "     1    2019-01-03  26.190000534057617  26.309999465942383   \n",
      "     2    2019-01-04  27.049999237060547    27.6200008392334   \n",
      "     3    2019-01-07   27.06999969482422  27.510000228881836   \n",
      "     4    2019-01-08  27.690000534057617  27.739999771118164   \n",
      "...              ...                 ...                 ...   \n",
      "POLY 100  2020-11-17   9.699999809265137   9.880000114440918   \n",
      "     101  2020-11-18   9.699999809265137   9.829999923706055   \n",
      "     102  2020-11-19   9.699999809265137   9.699999809265137   \n",
      "     103  2020-11-20   8.899999618530273   9.100000381469727   \n",
      "     104                            None                None   \n",
      "\n",
      "                           3                   4                   5       6  \n",
      "CRH  0    25.989999771118164  26.389999389648438  24.962018966674805  742700  \n",
      "     1    25.809999465942383  26.049999237060547  24.640417098999023  814000  \n",
      "     2     26.93000030517578  27.549999237060547  26.059249877929688  951100  \n",
      "     3     26.93000030517578  27.350000381469727  25.870073318481445  837300  \n",
      "     4    27.309999465942383  27.510000228881836   26.02141571044922  548600  \n",
      "...                      ...                 ...                 ...     ...  \n",
      "POLY 100   9.699999809265137   9.699999809265137   9.699999809265137   33835  \n",
      "     101   9.260000228881836   9.569999694824219   9.569999694824219   36431  \n",
      "     102   8.779999732971191   8.989999771118164   8.989999771118164   62511  \n",
      "     103   8.639900207519531   8.890000343322754   8.890000343322754   92438  \n",
      "     104                None                None                None    None  \n",
      "\n",
      "[3270 rows x 7 columns]\n"
     ]
    }
   ],
   "source": [
    "df = pd.concat(dataset)\n",
    "print(df)"
   ]
  },
  {
   "cell_type": "code",
   "execution_count": 48,
   "id": "da14bc48",
   "metadata": {},
   "outputs": [
    {
     "name": "stdout",
     "output_type": "stream",
     "text": [
      "                       0                   1                   2  \\\n",
      "Company Date                                                       \n",
      "CRH     0     2019-01-02  26.030000686645508                26.5   \n",
      "        1     2019-01-03  26.190000534057617  26.309999465942383   \n",
      "        2     2019-01-04  27.049999237060547    27.6200008392334   \n",
      "        3     2019-01-07   27.06999969482422  27.510000228881836   \n",
      "        4     2019-01-08  27.690000534057617  27.739999771118164   \n",
      "...                  ...                 ...                 ...   \n",
      "POLY    100   2020-11-17   9.699999809265137   9.880000114440918   \n",
      "        101   2020-11-18   9.699999809265137   9.829999923706055   \n",
      "        102   2020-11-19   9.699999809265137   9.699999809265137   \n",
      "        103   2020-11-20   8.899999618530273   9.100000381469727   \n",
      "        104                             None                None   \n",
      "\n",
      "                               3                   4                   5  \\\n",
      "Company Date                                                               \n",
      "CRH     0     25.989999771118164  26.389999389648438  24.962018966674805   \n",
      "        1     25.809999465942383  26.049999237060547  24.640417098999023   \n",
      "        2      26.93000030517578  27.549999237060547  26.059249877929688   \n",
      "        3      26.93000030517578  27.350000381469727  25.870073318481445   \n",
      "        4     27.309999465942383  27.510000228881836   26.02141571044922   \n",
      "...                          ...                 ...                 ...   \n",
      "POLY    100    9.699999809265137   9.699999809265137   9.699999809265137   \n",
      "        101    9.260000228881836   9.569999694824219   9.569999694824219   \n",
      "        102    8.779999732971191   8.989999771118164   8.989999771118164   \n",
      "        103    8.639900207519531   8.890000343322754   8.890000343322754   \n",
      "        104                 None                None                None   \n",
      "\n",
      "                   6  \n",
      "Company Date          \n",
      "CRH     0     742700  \n",
      "        1     814000  \n",
      "        2     951100  \n",
      "        3     837300  \n",
      "        4     548600  \n",
      "...              ...  \n",
      "POLY    100    33835  \n",
      "        101    36431  \n",
      "        102    62511  \n",
      "        103    92438  \n",
      "        104     None  \n",
      "\n",
      "[3270 rows x 7 columns]\n"
     ]
    }
   ],
   "source": [
    "df.index.names = ['Company','Date']\n",
    "print(df)"
   ]
  },
  {
   "cell_type": "code",
   "execution_count": 79,
   "id": "ee3bf130",
   "metadata": {},
   "outputs": [],
   "source": [
    "##Part 2\n",
    "\n",
    "mydata = pd.DataFrame(df)"
   ]
  },
  {
   "cell_type": "code",
   "execution_count": 65,
   "id": "c4667657",
   "metadata": {},
   "outputs": [
    {
     "name": "stdout",
     "output_type": "stream",
     "text": [
      "<class 'pandas.core.frame.DataFrame'>\n",
      "MultiIndex: 3270 entries, ('CRH', 0) to ('POLY', 104)\n",
      "Data columns (total 7 columns):\n",
      " #   Column  Non-Null Count  Dtype \n",
      "---  ------  --------------  ----- \n",
      " 0   0       3270 non-null   object\n",
      " 1   1       3261 non-null   object\n",
      " 2   2       3261 non-null   object\n",
      " 3   3       3261 non-null   object\n",
      " 4   4       3261 non-null   object\n",
      " 5   5       3261 non-null   object\n",
      " 6   6       3261 non-null   object\n",
      "dtypes: object(7)\n",
      "memory usage: 208.5+ KB\n"
     ]
    }
   ],
   "source": [
    "#The time series is from 2019-01-02 to 2020-11-20,no missing date\n",
    "mydata.info()"
   ]
  },
  {
   "cell_type": "code",
   "execution_count": 98,
   "id": "e5c5285f",
   "metadata": {},
   "outputs": [],
   "source": [
    "# What day was the highest number of shares traded?\n",
    "mydata.groupby('Compnay')['Volume'].idxmax()"
   ]
  },
  {
   "cell_type": "code",
   "execution_count": null,
   "id": "2054be1c",
   "metadata": {},
   "outputs": [],
   "source": [
    "#When did the company record the highest gain and highest loss for the day? (logarithmic loss) \n",
    "mydata[\"log_loss\"]=mydata[\"Adj.Close\"].pct_change()\n",
    "mydata[\"Adj.Close\"].max()\n",
    "mydata[\"Adj.Close\"].min()"
   ]
  },
  {
   "cell_type": "code",
   "execution_count": null,
   "id": "a6120f8b",
   "metadata": {},
   "outputs": [],
   "source": [
    "#What is the highest and lowest Adj Close price the company recorded? \n",
    "print(\"highest Adj Close price is\",mydata[\"Adj.Close\"].max()) \n",
    "print(\"lowest Adj Close price is\",mydata[\"Adj.Close\"].min()) "
   ]
  },
  {
   "cell_type": "code",
   "execution_count": null,
   "id": "ce5045bc",
   "metadata": {},
   "outputs": [],
   "source": [
    "#What is the sum of shares traded in your sample?\n",
    "print(mydata[\"Volume\"].sum())"
   ]
  },
  {
   "cell_type": "code",
   "execution_count": null,
   "id": "306b0723",
   "metadata": {},
   "outputs": [],
   "source": [
    "#What is the average volume in a week?\n"
   ]
  },
  {
   "cell_type": "code",
   "execution_count": null,
   "id": "95573acc",
   "metadata": {},
   "outputs": [],
   "source": [
    "#For the company with the highest volume of shares traded over the whole period, plot their share price over time\n"
   ]
  },
  {
   "cell_type": "code",
   "execution_count": null,
   "id": "b8859dd6",
   "metadata": {},
   "outputs": [],
   "source": [
    "#Plot the log returns for the company that has the largest difference between opening and closing price. What day and what company did it occur at?\n"
   ]
  },
  {
   "cell_type": "code",
   "execution_count": null,
   "id": "6cb18816",
   "metadata": {},
   "outputs": [],
   "source": [
    "#Find monthly returns. Which company has the highest recorded?\n"
   ]
  },
  {
   "cell_type": "code",
   "execution_count": null,
   "id": "6b9e0047",
   "metadata": {},
   "outputs": [],
   "source": [
    "#For stocks with full time series, calculate 10day volatility by calculating the standard deviation of the previous 10 days. (i.e. 10th day is the first observation and it includes given day)\n"
   ]
  },
  {
   "cell_type": "code",
   "execution_count": null,
   "id": "d7081d72",
   "metadata": {},
   "outputs": [],
   "source": [
    "#Create a single object with Adjusted Close prices, plot them together in one time series plot"
   ]
  }
 ],
 "metadata": {
  "kernelspec": {
   "display_name": "Python 3 (ipykernel)",
   "language": "python",
   "name": "python3"
  },
  "language_info": {
   "codemirror_mode": {
    "name": "ipython",
    "version": 3
   },
   "file_extension": ".py",
   "mimetype": "text/x-python",
   "name": "python",
   "nbconvert_exporter": "python",
   "pygments_lexer": "ipython3",
   "version": "3.9.7"
  }
 },
 "nbformat": 4,
 "nbformat_minor": 5
}
